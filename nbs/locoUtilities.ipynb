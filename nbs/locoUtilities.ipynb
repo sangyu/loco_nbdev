{
 "cells": [
  {
   "cell_type": "code",
   "execution_count": null,
   "id": "58ef1665",
   "metadata": {},
   "outputs": [],
   "source": [
    "#| export\n",
    "\n",
    "\"\"\"\n",
    "Created on Wed Jul 15 11:04:52 2020\n",
    "\n",
    "@author: sangyuxu\n",
    "\"\"\"\n",
    "import os\n",
    "# from scipy.ndimage import gaussian_filter1d\n",
    "import matplotlib.pyplot as plt\n",
    "import numpy as np\n",
    "import pandas as pd\n",
    "import datetime\n",
    "\n",
    "\n"
   ]
  },
  {
   "cell_type": "code",
   "execution_count": null,
   "id": "06e31989",
   "metadata": {},
   "outputs": [],
   "source": [
    "#| export\n",
    "\n",
    "def makeOutputFolders(dataFolder):\n",
    "    filelist=os.listdir(dataFolder)\n",
    "    if 'output' not in filelist:\n",
    "        outputDir = dataFolder + 'output/'\n",
    "        os.mkdir(outputDir)\n",
    "    else:\n",
    "        outputDir = dataFolder + 'output/'\n",
    "    if 'chamberPlots' not in os.listdir(outputDir):\n",
    "        os.mkdir(outputDir + 'chamberPlots/')\n",
    "    return outputDir"
   ]
  },
  {
   "cell_type": "code",
   "execution_count": null,
   "id": "ec1cfafc",
   "metadata": {},
   "outputs": [],
   "source": [
    "#| export\n",
    "\n",
    "def resampleCountLog(countLogDf, countLogName, resampleFrequencyInMs =50, longForm = False):\n",
    "    originalCountLogDf = countLogDf\n",
    "    resampleFrequency = str(resampleFrequencyInMs) + 'L'\n",
    "    startDateTimeStr = countLogName[9:28]\n",
    "    startDateTime = datetime.datetime.strptime(startDateTimeStr, '%Y-%m-%d_%H-%M-%S')\n",
    "    absStartTime = datetime.datetime(2000, 1, 1, 0, 0, 0)\n",
    "    countLogDfNewTime = countLogDf.copy()\n",
    "    countLogDfNewTime.loc[:, 'NewAbsoluteTime'] = pd.to_timedelta(countLogDf['Seconds'], unit='s')\n",
    "    countLogDfNewTime.loc[:, 'NewTime'] = startDateTime + pd.to_timedelta(countLogDf['Seconds'], unit='s')\n",
    "    if longForm:\n",
    "        countLogDfReIndexed=countLogDfNewTime.set_index(countLogDfNewTime['NewTime'])\n",
    "    else:\n",
    "        countLogDfReIndexed=countLogDfNewTime.set_index(absStartTime + countLogDfNewTime['NewAbsoluteTime'])\n",
    "    countLogDfResampled = countLogDfReIndexed.resample(resampleFrequency).agg(np.mean)\n",
    "    return countLogDfResampled, originalCountLogDf\n",
    "\n",
    "    \n"
   ]
  },
  {
   "cell_type": "code",
   "execution_count": null,
   "id": "7cac6bbe",
   "metadata": {},
   "outputs": [],
   "source": [
    "#| export\n",
    "\n",
    "def espressoSaveFig(fig, figName, figDate, figDirectory, pngDPI = 300, tp = True):\n",
    "    fig.savefig(figDirectory + figName + str(figDate)+'.png', transparent = tp, dpi = pngDPI,  bbox_inches='tight')\n",
    "    fig.savefig(figDirectory + figName + str(figDate)+'.svg') \n",
    "\n"
   ]
  },
  {
   "cell_type": "code",
   "execution_count": null,
   "id": "75839bf5",
   "metadata": {},
   "outputs": [],
   "source": [
    "#| export\n",
    "\n",
    "def espressoWriteDictToCSV(filename, dict):\n",
    "    import csv\n",
    "    with open(filename, 'w') as csv_file:\n",
    "        writer = csv.writer(csv_file)\n",
    "        for key, value in dict.items():\n",
    "           writer.writerow([key, value])\n",
    "\n"
   ]
  },
  {
   "cell_type": "code",
   "execution_count": null,
   "id": "f4eab6e8",
   "metadata": {},
   "outputs": [],
   "source": [
    "#| export\n",
    "\n",
    "def checkDabestVersion():\n",
    "    import dabest\n",
    "    s = dabest.__version__.split('.')\n",
    "    dabestVersion = float(s[0]+'.'+s[1]+s[2])\n",
    "    print('dabest version = ' + dabest.__version__)\n",
    "    return dabestVersion\n",
    "\n"
   ]
  },
  {
   "cell_type": "code",
   "execution_count": null,
   "id": "c7b94270",
   "metadata": {},
   "outputs": [],
   "source": [
    "#| export\n",
    "\n",
    "def startProgressbar():\n",
    "    import sys\n",
    "    sys.stdout.write(\"\\n[\") \n",
    "\n",
    "  #  toolbar_width = 10\n",
    "  #  sys.stdout.write(\"[%s]\" % (\"-\" * toolbar_width))\n",
    "    sys.stdout.flush()\n",
    "  #  sys.stdout.write(\"\\b\" * (toolbar_width+1)) # return to start of line, after '['\n",
    "\n",
    "def drawProgressbar():    \n",
    "    import sys    \n",
    "    sys.stdout.write(\"-\")\n",
    "    sys.stdout.flush()\n",
    "    \n",
    "def endProgressbar():\n",
    "    import sys\n",
    "    sys.stdout.write(\"]\\n\") # this ends the progress bar\n",
    "\n",
    "\n",
    "\n",
    "\n"
   ]
  }
 ],
 "metadata": {
  "kernelspec": {
   "display_name": "Python 3 (ipykernel)",
   "language": "python",
   "name": "python3"
  }
 },
 "nbformat": 4,
 "nbformat_minor": 5
}
